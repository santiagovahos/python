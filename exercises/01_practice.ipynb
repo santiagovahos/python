{
 "cells": [
  {
   "attachments": {},
   "cell_type": "markdown",
   "metadata": {},
   "source": [
    "1) Hacer una funcion que le pida al usuario el diametro de un circunferencia y calcule su area y perimetro"
   ]
  },
  {
   "cell_type": "code",
   "execution_count": 6,
   "metadata": {},
   "outputs": [
    {
     "name": "stdout",
     "output_type": "stream",
     "text": [
      "Area y perimetro de una circunferencia\n",
      "Por favor ingrese el diametro de la circunferencia: \n",
      "El area de la circunferenia es: 28.274333882308138\n",
      "El perimetro de la circunferencia es: 18.84955592153876\n"
     ]
    }
   ],
   "source": [
    "# Diametro = 2 * radio\n",
    "# Radio = diametro / 2\n",
    "from math import pi # Importamos la constante pi\n",
    "def area_perimetro():\n",
    "    print('Area y perimetro de una circunferencia')\n",
    "    print('Por favor ingrese el diametro de la circunferencia: ')\n",
    "    dmtro = float(input())\n",
    "    area = pi * (dmtro/2)**2  # Area = pi * radio**2\n",
    "    perimetro = 2 * pi * dmtro/2 # Perimetro = 2 * pi * radio\n",
    "    print(f'El area de la circunferenia es: {area}')\n",
    "    print(f'El perimetro de la circunferencia es: {perimetro}')\n",
    "\n",
    "area_perimetro()"
   ]
  },
  {
   "attachments": {},
   "cell_type": "markdown",
   "metadata": {},
   "source": [
    "2) Hacer una funcion que elimine los espacios en blanco de una cadena de caracteres"
   ]
  },
  {
   "cell_type": "code",
   "execution_count": 1,
   "metadata": {},
   "outputs": [
    {
     "name": "stdout",
     "output_type": "stream",
     "text": [
      "Por favor ingrese un texto: \n",
      "holaminombreessantiago\n"
     ]
    }
   ],
   "source": [
    "def elimina_espacios():\n",
    "    print('Por favor ingrese un texto: ')\n",
    "    cadena = str(input())\n",
    "    nueva_cadena = cadena.replace(' ', '')\n",
    "    print(nueva_cadena)\n",
    "\n",
    "elimina_espacios()"
   ]
  },
  {
   "attachments": {},
   "cell_type": "markdown",
   "metadata": {},
   "source": [
    "3) Hacer una funcion que calcule la distancia euclideana entre dos puntos de un plano cartesiano"
   ]
  },
  {
   "cell_type": "code",
   "execution_count": 15,
   "metadata": {},
   "outputs": [
    {
     "name": "stdout",
     "output_type": "stream",
     "text": [
      "¡Bienvenido al calculador de distancia euclidiana!\n",
      "La distancia euclidiana entre los dos puntos es: 4.123105625617661\n",
      "La distancia euclidiana entre los dos puntos es: 4.123105625617661\n"
     ]
    }
   ],
   "source": [
    "# d = √(x2-x1)2 + (y2-y1)2 \n",
    "import numpy as np\n",
    "def distancia_euclidiana():\n",
    "    print('¡Bienvenido al calculador de distancia euclidiana!')\n",
    "    x1 = float(input('Por favor ingrese x1: '))\n",
    "    y1 = float(input('Por favor ingrese y1: '))\n",
    "    x2 = float(input('Por favor ingrese x2: '))\n",
    "    y2 = float(input('Por favor ingrese y2: '))\n",
    "    dif = (x2 - x1)**2\n",
    "    dif_1 = (y2 - y1)**2\n",
    "    r = np.sqrt(dif + dif_1)\n",
    "    print('La distancia euclidiana entre los dos puntos es:', r)\n",
    "\n",
    "distancia_euclidiana()\n",
    "\n",
    "def dis_euclidiana(x1, y1, x2, y2):\n",
    "    dif = (x2 - x1)**2\n",
    "    dif_1 = (y2 - y1)**2\n",
    "    r = np.sqrt(dif + dif_1)\n",
    "    print('La distancia euclidiana entre los dos puntos es:', r)\n",
    "\n",
    "dis_euclidiana(3, 1, 4, 5)\n"
   ]
  },
  {
   "attachments": {},
   "cell_type": "markdown",
   "metadata": {},
   "source": [
    "4) Hacer una funcion que calcule la hipotenusa de un triangulo rectangulo, para ello pida al usuario los lados del triangulo"
   ]
  },
  {
   "cell_type": "code",
   "execution_count": 17,
   "metadata": {},
   "outputs": [
    {
     "name": "stdout",
     "output_type": "stream",
     "text": [
      "Por favor ingrese el lado 1: \n",
      "Por favor ingrese el lado 1: \n",
      "La hipotenusa del triangulo rectangulo es: 3.605551275463989\n"
     ]
    }
   ],
   "source": [
    "# Hipotenusa = √(Lado 1² + Lado 2²)\n",
    "def hipotenusa():\n",
    "    print('Por favor ingrese el lado 1: ')\n",
    "    lado_1 = float(input())\n",
    "    print('Por favor ingrese el lado 1: ')\n",
    "    lado_2 = float(input())\n",
    "    h = np.sqrt(lado_1**2 + lado_2**2)\n",
    "    print('La hipotenusa del triangulo rectangulo es:', h)\n",
    "\n",
    "hipotenusa()"
   ]
  },
  {
   "attachments": {},
   "cell_type": "markdown",
   "metadata": {},
   "source": [
    "5) Hacer una funcion que sume todos los elementos de una lista sin utilizar el metodo sum de python"
   ]
  },
  {
   "cell_type": "code",
   "execution_count": 4,
   "metadata": {},
   "outputs": [
    {
     "name": "stdout",
     "output_type": "stream",
     "text": [
      "La suma de los elementos es: 15\n"
     ]
    }
   ],
   "source": [
    "x = [1, 2, 3, 4, 5]\n",
    "def suma(lista):\n",
    "    r = 0\n",
    "    for i in lista:\n",
    "        r+=i\n",
    "    print('La suma de los elementos es:', r)\n",
    "\n",
    "suma(x)"
   ]
  },
  {
   "attachments": {},
   "cell_type": "markdown",
   "metadata": {},
   "source": [
    "6) Hacer una funcion que permita encontrar en una lista si existe o no algun elemento tipo string"
   ]
  },
  {
   "cell_type": "code",
   "execution_count": 8,
   "metadata": {},
   "outputs": [
    {
     "name": "stdout",
     "output_type": "stream",
     "text": [
      "El elemento se encuentra en la lista\n"
     ]
    }
   ],
   "source": [
    "def buscador(elemento, lista):\n",
    "    x = elemento.lower()\n",
    "    if x in lista:\n",
    "        print('El elemento se encuentra en la lista')\n",
    "    else:\n",
    "        print('El elemento no se encuentra en la lista')\n",
    "\n",
    "z = ['hola', 'como estas', 'alejo', 'santiago', 'margarita', 'aurora']\n",
    "\n",
    "buscador('Alejo', z)"
   ]
  },
  {
   "attachments": {},
   "cell_type": "markdown",
   "metadata": {},
   "source": [
    "7) Hacer una funcion que calcule si un numero es par o impar, para ello consulte sobre el operador modulo `(%)` en python"
   ]
  },
  {
   "cell_type": "code",
   "execution_count": 10,
   "metadata": {},
   "outputs": [
    {
     "name": "stdout",
     "output_type": "stream",
     "text": [
      "El número 7 es impar\n"
     ]
    }
   ],
   "source": [
    "def par_impar():\n",
    "    num = int(input('Por favor ingrese un número: '))\n",
    "    if num % 2 == 0:\n",
    "        print(f'El número {num} es par')\n",
    "    else:\n",
    "        print(f'El número {num} es impar')\n",
    "\n",
    "par_impar()"
   ]
  },
  {
   "attachments": {},
   "cell_type": "markdown",
   "metadata": {},
   "source": [
    "8) De la funcion anterior realizar una version 2, que reciba una lista de numeros y que imprima en pantalla para cada numero de la lista si es par o impar\n",
    "\n",
    "```Python\n",
    "\n",
    "lista = [1,2,3,4]\n",
    "\n",
    "#pantalla\n",
    "\n",
    "1 es impar\n",
    "2 es par\n",
    "3 es impar\n",
    "4 es par\n",
    "\n",
    "```"
   ]
  },
  {
   "cell_type": "code",
   "execution_count": 21,
   "metadata": {},
   "outputs": [
    {
     "name": "stdout",
     "output_type": "stream",
     "text": [
      "Bienvenido al detector de numeros pares e impares\n",
      "Para terminar de añadir números a identificar por favor escriba la palabra \"salir\"\n",
      "El número 1 es impar\n",
      "El número 2 es par\n",
      "El número 3 es impar\n",
      "El número 4 es par\n",
      "El número 5 es impar\n",
      "El número 6 es par\n",
      "El número 7 es impar\n",
      "El número 8 es par\n",
      "El número 9 es impar\n",
      "El número 10 es par\n"
     ]
    }
   ],
   "source": [
    "def lista_par_impar():\n",
    "    print('Bienvenido al detector de numeros pares e impares')\n",
    "    print('Para terminar de añadir números a identificar por favor escriba la palabra \"salir\"')\n",
    "    x = []\n",
    "    while True:\n",
    "        elemento = input('Por favor ingrese el número a añadir: ')\n",
    "        if elemento == 'salir':\n",
    "            break\n",
    "        else:\n",
    "            z = int(elemento)\n",
    "            x.append(z)\n",
    "    for num in x:\n",
    "        if num % 2 == 0:\n",
    "            print(f'El número {num} es par')\n",
    "        else:\n",
    "            print(f'El número {num} es impar')\n",
    "\n",
    "lista_par_impar()"
   ]
  },
  {
   "attachments": {},
   "cell_type": "markdown",
   "metadata": {},
   "source": [
    "9) Hacer una funcion que retorne cuantos elementos tipo str hay en la lista y que elementos son los que contienen ese tipo de dato\n",
    "\n",
    "```Python\n",
    "\n",
    "lista = [1,2,3 \"Hola\", \"eafit\"]\n",
    "\n",
    "## en pantalla\n",
    "elemento tipo str: \"Hola\", \"eafit\"\n",
    "cantidad de elementos tipo str: 2\n",
    "\n",
    "```"
   ]
  },
  {
   "cell_type": "code",
   "execution_count": 34,
   "metadata": {},
   "outputs": [
    {
     "name": "stdout",
     "output_type": "stream",
     "text": [
      "Los elementos de tipo Str son:  ['Colombia', 'Finlandia', 'Brasil', 'Italia', 'Argentina']\n",
      "La lista contiene 5 elementos de tipo Str\n",
      "Los elementos de tipo Str son:  []\n",
      "La lista contiene 0 elementos de tipo Str\n"
     ]
    }
   ],
   "source": [
    "def identificador_elementos(lista):\n",
    "    n = 0\n",
    "    cadena = []\n",
    "    for i in lista:\n",
    "        if type(i) == str:\n",
    "            n+=1\n",
    "            cadena.append(i)\n",
    "        elif type(i) != str:\n",
    "            continue\n",
    "        else:\n",
    "            print('No hay elementos tipo Str en la lista')\n",
    "    print('Los elementos de tipo Str son: ', cadena)\n",
    "    print(f'La lista contiene {n} elementos de tipo Str')\n",
    "\n",
    "paises = [3, 'Colombia', 4, 'Finlandia', 14, 'Brasil', 'Italia', 'Argentina']\n",
    "numeros = [3, 4, 14]\n",
    "identificador_elementos(paises)\n",
    "identificador_elementos(numeros)\n",
    "\n"
   ]
  }
 ],
 "metadata": {
  "kernelspec": {
   "display_name": "Python 3",
   "language": "python",
   "name": "python3"
  },
  "language_info": {
   "codemirror_mode": {
    "name": "ipython",
    "version": 3
   },
   "file_extension": ".py",
   "mimetype": "text/x-python",
   "name": "python",
   "nbconvert_exporter": "python",
   "pygments_lexer": "ipython3",
   "version": "3.10.7"
  },
  "orig_nbformat": 4
 },
 "nbformat": 4,
 "nbformat_minor": 2
}
