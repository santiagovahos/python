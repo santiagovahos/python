{
 "cells": [
  {
   "attachments": {},
   "cell_type": "markdown",
   "metadata": {},
   "source": [
    "1) Hacer una funcion que le pida al usuario el diametro de un circunferencia y calcule su area y perimetro"
   ]
  },
  {
   "cell_type": "code",
   "execution_count": 6,
   "metadata": {},
   "outputs": [
    {
     "name": "stdout",
     "output_type": "stream",
     "text": [
      "Area y perimetro de una circunferencia\n",
      "Por favor ingrese el diametro de la circunferencia: \n",
      "El area de la circunferenia es: 28.274333882308138\n",
      "El perimetro de la circunferencia es: 18.84955592153876\n"
     ]
    }
   ],
   "source": [
    "# Diametro = 2 * radio\n",
    "# Radio = diametro / 2\n",
    "from math import pi # Importamos la constante pi\n",
    "def area_perimetro():\n",
    "    print('Area y perimetro de una circunferencia')\n",
    "    print('Por favor ingrese el diametro de la circunferencia: ')\n",
    "    dmtro = float(input())\n",
    "    area = pi * (dmtro/2)**2  # Area = pi * radio**2\n",
    "    perimetro = 2 * pi * dmtro/2 # Perimetro = 2 * pi * radio\n",
    "    print(f'El area de la circunferenia es: {area}')\n",
    "    print(f'El perimetro de la circunferencia es: {perimetro}')\n",
    "\n",
    "area_perimetro()"
   ]
  },
  {
   "attachments": {},
   "cell_type": "markdown",
   "metadata": {},
   "source": [
    "2) Hacer una funcion que elimine los espacios en blanco de una cadena de caracteres"
   ]
  },
  {
   "cell_type": "code",
   "execution_count": 9,
   "metadata": {},
   "outputs": [
    {
     "name": "stdout",
     "output_type": "stream",
     "text": [
      "Por favor ingrese un texto: \n",
      "holaaaaaaaaa\n"
     ]
    }
   ],
   "source": [
    "def elimina_espacios():\n",
    "    print('Por favor ingrese un texto: ')\n",
    "    cadena = str(input())\n",
    "    nueva_cadena = cadena.replace(' ', '')\n",
    "    print(nueva_cadena)\n",
    "\n",
    "elimina_espacios()"
   ]
  },
  {
   "attachments": {},
   "cell_type": "markdown",
   "metadata": {},
   "source": [
    "3) Hacer una funcion que calcule la distancia euclideana entre dos puntos de un plano cartesiano"
   ]
  },
  {
   "cell_type": "code",
   "execution_count": 15,
   "metadata": {},
   "outputs": [
    {
     "name": "stdout",
     "output_type": "stream",
     "text": [
      "¡Bienvenido al calculador de distancia euclidiana!\n",
      "La distancia euclidiana entre los dos puntos es: 4.123105625617661\n",
      "La distancia euclidiana entre los dos puntos es: 4.123105625617661\n"
     ]
    }
   ],
   "source": [
    "# d = √(x2-x1)2 + (y2-y1)2 \n",
    "import numpy as np\n",
    "def distancia_euclidiana():\n",
    "    print('¡Bienvenido al calculador de distancia euclidiana!')\n",
    "    x1 = float(input('Por favor ingrese x1: '))\n",
    "    y1 = float(input('Por favor ingrese y1: '))\n",
    "    x2 = float(input('Por favor ingrese x2: '))\n",
    "    y2 = float(input('Por favor ingrese y2: '))\n",
    "    dif = (x2 - x1)**2\n",
    "    dif_1 = (y2 - y1)**2\n",
    "    r = np.sqrt(dif + dif_1)\n",
    "    print('La distancia euclidiana entre los dos puntos es:', r)\n",
    "\n",
    "distancia_euclidiana()\n",
    "\n",
    "def dis_euclidiana(x1, y1, x2, y2):\n",
    "    dif = (x2 - x1)**2\n",
    "    dif_1 = (y2 - y1)**2\n",
    "    r = np.sqrt(dif + dif_1)\n",
    "    print('La distancia euclidiana entre los dos puntos es:', r)\n",
    "\n",
    "dis_euclidiana(3, 1, 4, 5)\n"
   ]
  },
  {
   "attachments": {},
   "cell_type": "markdown",
   "metadata": {},
   "source": [
    "4) Hacer una funcion que calcule la hipotenusa de un triangulo rectangulo, para ello pida al usuario los lados del triangulo"
   ]
  },
  {
   "cell_type": "code",
   "execution_count": 17,
   "metadata": {},
   "outputs": [
    {
     "name": "stdout",
     "output_type": "stream",
     "text": [
      "Por favor ingrese el lado 1: \n",
      "Por favor ingrese el lado 1: \n",
      "La hipotenusa del triangulo rectangulo es: 3.605551275463989\n"
     ]
    }
   ],
   "source": [
    "# Hipotenusa = √(Lado 1² + Lado 2²)\n",
    "def hipotenusa():\n",
    "    print('Por favor ingrese el lado 1: ')\n",
    "    lado_1 = float(input())\n",
    "    print('Por favor ingrese el lado 1: ')\n",
    "    lado_2 = float(input())\n",
    "    h = np.sqrt(lado_1**2 + lado_2**2)\n",
    "    print('La hipotenusa del triangulo rectangulo es:', h)\n",
    "\n",
    "hipotenusa()"
   ]
  }
 ],
 "metadata": {
  "kernelspec": {
   "display_name": "Python 3",
   "language": "python",
   "name": "python3"
  },
  "language_info": {
   "codemirror_mode": {
    "name": "ipython",
    "version": 3
   },
   "file_extension": ".py",
   "mimetype": "text/x-python",
   "name": "python",
   "nbconvert_exporter": "python",
   "pygments_lexer": "ipython3",
   "version": "3.10.7"
  },
  "orig_nbformat": 4
 },
 "nbformat": 4,
 "nbformat_minor": 2
}
