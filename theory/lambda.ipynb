{
 "cells": [
  {
   "attachments": {},
   "cell_type": "markdown",
   "metadata": {},
   "source": [
    "<div style=\"text-align: center;\">\n",
    "<span style=\"font-family: Consolas; font-size: 30px; color: white\">lambda argumentos: expresión</span>\n",
    "</div>"
   ]
  },
  {
   "attachments": {},
   "cell_type": "markdown",
   "metadata": {},
   "source": [
    "Las funciones lambda son una forma de crear funciones anónimas (sin nombre) que podemos usar en nuestro código para realizar tareas específicas. La sintaxis de una función lambda es muy simple. Comenzamos con la palabra clave lambda, seguida de los parámetros de la función separados por comas y luego dos puntos \" : \". Después de los dos puntos, escribimos la tarea que queremos que la función realice. (Las funciones lambda pueden tener los argumentos que se requieran pero solo una linea de código o una expresión)\n",
    "\n",
    "\n",
    "[Para obtener más información sobre las funciones lambda](https://www.freecodecamp.org/news/python-lambda-function-explained/)\n",
    "\n",
    "\n"
   ]
  },
  {
   "attachments": {},
   "cell_type": "markdown",
   "metadata": {},
   "source": [
    "<div>\n",
    "<p style = 'text-align:center;'>\n",
    "<img src = \"./images/lambda.gif\">\n",
    "</p>\n",
    "</div>"
   ]
  },
  {
   "cell_type": "code",
   "execution_count": 6,
   "metadata": {},
   "outputs": [
    {
     "name": "stdout",
     "output_type": "stream",
     "text": [
      "21\n"
     ]
    }
   ],
   "source": [
    "def increment(x):\n",
    "    return x + 1\n",
    "increment(12)\n",
    "\n",
    "\n",
    "increment_v2 = lambda x : x + 1\n",
    "result = increment_v2(20)\n",
    "print(result)\n"
   ]
  },
  {
   "cell_type": "code",
   "execution_count": 10,
   "metadata": {},
   "outputs": [
    {
     "data": {
      "text/plain": [
       "6"
      ]
     },
     "execution_count": 10,
     "metadata": {},
     "output_type": "execute_result"
    }
   ],
   "source": [
    "# Para llamar directamente a lambda sería:\n",
    "(lambda x : x * 2)(3)"
   ]
  },
  {
   "cell_type": "code",
   "execution_count": 9,
   "metadata": {},
   "outputs": [
    {
     "name": "stdout",
     "output_type": "stream",
     "text": [
      "[1, 4, 9, 16, 25, 36, 49, 64, 81]\n"
     ]
    }
   ],
   "source": [
    "# Se pueden usar con list_comprehension\n",
    "func = lambda x: x ** 2\n",
    "lst = [func(i) for i in range(1, 10)]\n",
    "print(lst)"
   ]
  },
  {
   "attachments": {},
   "cell_type": "markdown",
   "metadata": {},
   "source": [
    "##### Función `map()` en Python"
   ]
  },
  {
   "attachments": {},
   "cell_type": "markdown",
   "metadata": {},
   "source": [
    "La función map() permite aplicar una función a cada elemento de una lista (u otro tipo de iterable).\n",
    "\n",
    "La sintaxis básica de la función map() es la siguiente:\n",
    "```\n",
    "map(función, iterable)\n",
    "```\n",
    "Donde función es la función que se aplicará a cada elemento del iterable.\n",
    "\n",
    "El resultado de la función map() es un objeto map que contiene los resultados de aplicar la función a cada elemento del iterable.\n",
    "\n",
    "Finalmente, si queremos imprimir los resultados en pantalla como una lista, podemos convertir el objeto map en una lista utilizando la función list().\n",
    "\n",
    "Tipos de iterables: Listas, Tuplas, Conjuntos, Diccionarios, Cadenas de texto, Objetos generados por funciones como range() o enumerate(), Objetos generados por expresiones generadoras como list comprehension o generator expression"
   ]
  },
  {
   "cell_type": "code",
   "execution_count": null,
   "metadata": {},
   "outputs": [],
   "source": [
    "# Lambda se puede aplicar con la func map()\n",
    "lista = [1, 2, 3, 4]\n",
    "resultado = map(lambda x: x**2, lista)\n",
    "print(list(resultado))"
   ]
  },
  {
   "attachments": {},
   "cell_type": "markdown",
   "metadata": {},
   "source": [
    "Ejercicios\n",
    "\n",
    "Crea una función lambda que devuelva la última letra de una cadena."
   ]
  },
  {
   "cell_type": "code",
   "execution_count": 15,
   "metadata": {},
   "outputs": [
    {
     "data": {
      "text/plain": [
       "'1'"
      ]
     },
     "execution_count": 15,
     "metadata": {},
     "output_type": "execute_result"
    }
   ],
   "source": [
    "text = 'hola1'\n",
    "(lambda x: x[-1])(text)"
   ]
  },
  {
   "attachments": {},
   "cell_type": "markdown",
   "metadata": {},
   "source": [
    "Crea una función lambda que combine dos cadenas y las devuelva en mayúsculas."
   ]
  },
  {
   "cell_type": "code",
   "execution_count": 27,
   "metadata": {},
   "outputs": [
    {
     "data": {
      "text/plain": [
       "'HOLAYOVNG'"
      ]
     },
     "execution_count": 27,
     "metadata": {},
     "output_type": "execute_result"
    }
   ],
   "source": [
    "concat = lambda x, y: x.upper() + y.upper()\n",
    "concat('hola','yovng')"
   ]
  },
  {
   "attachments": {},
   "cell_type": "markdown",
   "metadata": {},
   "source": [
    "Crea una función lambda que ordene una lista de números de menor a mayor"
   ]
  },
  {
   "cell_type": "code",
   "execution_count": 34,
   "metadata": {},
   "outputs": [
    {
     "data": {
      "text/plain": [
       "[3, 4, 14, 15, 27]"
      ]
     },
     "execution_count": 34,
     "metadata": {},
     "output_type": "execute_result"
    }
   ],
   "source": [
    "numbers = [14, 4, 27, 3, 15]\n",
    "a_z = lambda x: sorted(x)\n",
    "a_z(numbers)\n"
   ]
  }
 ],
 "metadata": {
  "kernelspec": {
   "display_name": "Python 3",
   "language": "python",
   "name": "python3"
  },
  "language_info": {
   "codemirror_mode": {
    "name": "ipython",
    "version": 3
   },
   "file_extension": ".py",
   "mimetype": "text/x-python",
   "name": "python",
   "nbconvert_exporter": "python",
   "pygments_lexer": "ipython3",
   "version": "3.10.7"
  },
  "orig_nbformat": 4
 },
 "nbformat": 4,
 "nbformat_minor": 2
}
