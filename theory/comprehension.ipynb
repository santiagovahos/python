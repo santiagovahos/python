{
 "cells": [
  {
   "attachments": {},
   "cell_type": "markdown",
   "metadata": {},
   "source": [
    "##### List comprehension"
   ]
  },
  {
   "cell_type": "code",
   "execution_count": 1,
   "metadata": {},
   "outputs": [
    {
     "name": "stdout",
     "output_type": "stream",
     "text": [
      "[1, 2, 3, 4, 5, 6, 7, 8, 9, 10]\n"
     ]
    }
   ],
   "source": [
    "numbers = []\n",
    "for element in range(1, 11):\n",
    "    numbers.append(element)\n",
    "\n",
    "print(numbers)"
   ]
  },
  {
   "cell_type": "code",
   "execution_count": 2,
   "metadata": {},
   "outputs": [
    {
     "name": "stdout",
     "output_type": "stream",
     "text": [
      "[1, 2, 3, 4, 5, 6, 7, 8, 9, 10]\n"
     ]
    }
   ],
   "source": [
    "# De la anterior forma nos toma tres lineas de codigo aprox, veamos cuanto nos tomaria con una list comprehension:\n",
    "numbers_1 = [element for element in range(1, 11)]\n",
    "print(numbers_1)"
   ]
  },
  {
   "cell_type": "code",
   "execution_count": 4,
   "metadata": {},
   "outputs": [
    {
     "name": "stdout",
     "output_type": "stream",
     "text": [
      "[2, 4, 6, 8, 10, 12, 14, 16, 18, 20]\n",
      "[2, 4, 6, 8, 10, 12, 14, 16, 18, 20]\n"
     ]
    }
   ],
   "source": [
    "numbersx2 = []\n",
    "for element in range(1, 11):\n",
    "    numbersx2.append(element * 2)\n",
    "print(numbersx2)\n",
    "# Sería lo mismo que:\n",
    "numbers_x2 = [element * 2 for element in range(1,11)]\n",
    "print(numbers_x2)"
   ]
  },
  {
   "attachments": {},
   "cell_type": "markdown",
   "metadata": {},
   "source": [
    "Se podría tener en cuenta condicionales para la creacion de nuestras list comprehensions"
   ]
  },
  {
   "cell_type": "code",
   "execution_count": 8,
   "metadata": {},
   "outputs": [
    {
     "name": "stdout",
     "output_type": "stream",
     "text": [
      "[2, 4, 6, 8, 10]\n",
      "[2, 4, 6, 8, 10]\n"
     ]
    }
   ],
   "source": [
    "pares = []\n",
    "impares = []\n",
    "for elemento in range(1,11):\n",
    "    if elemento % 2 == 0:\n",
    "        pares.append(elemento)\n",
    "print(pares)\n",
    "# Sería lo mismo que:\n",
    "pares = [elemento for elemento in range(1,11) if elemento % 2 == 0]\n",
    "print(pares)"
   ]
  },
  {
   "attachments": {},
   "cell_type": "markdown",
   "metadata": {},
   "source": [
    "##### Dict comprehension"
   ]
  },
  {
   "cell_type": "code",
   "execution_count": 6,
   "metadata": {},
   "outputs": [
    {
     "name": "stdout",
     "output_type": "stream",
     "text": [
      "{1: 2, 2: 4, 3: 6, 4: 8, 5: 10}\n",
      "{1: 2, 2: 4, 3: 6, 4: 8, 5: 10}\n"
     ]
    }
   ],
   "source": [
    "dict = {}\n",
    "for i in range (1,6):\n",
    "    dict[i] = i*2\n",
    "print(dict)\n",
    "# Sería lo mismo que:\n",
    "dict_1 = {i:i*2 for i in range(1,6)}\n",
    "print(dict_1)\n"
   ]
  },
  {
   "cell_type": "code",
   "execution_count": 36,
   "metadata": {},
   "outputs": [
    {
     "name": "stdout",
     "output_type": "stream",
     "text": [
      "{'COL': 44, 'ARG': 34, 'BRA': 23, 'BOL': 70}\n",
      "{'COL': 51, 'ARG': 86, 'BRA': 89, 'BOL': 45}\n"
     ]
    }
   ],
   "source": [
    "import random\n",
    "\n",
    "countries = ['COL', 'ARG', 'BRA', 'BOL']\n",
    "population = {}\n",
    "for country in countries:\n",
    "    population[country] = random.randint(1, 101)\n",
    "print(population)\n",
    "# Sería lo mismo que:\n",
    "population_1 = {country: random.randint(1, 101) for country in countries}\n",
    "print(population_1)"
   ]
  },
  {
   "cell_type": "code",
   "execution_count": 32,
   "metadata": {},
   "outputs": [
    {
     "name": "stdout",
     "output_type": "stream",
     "text": [
      "{'yovng': 26, 'lil': 24, 'mathias': 8}\n",
      "{'yovng': 26, 'lil': 24, 'mathias': 8}\n"
     ]
    }
   ],
   "source": [
    "names = ['yovng', 'lil', 'mathias']\n",
    "ages = [26, 24, 8]\n",
    "\n",
    "new_dict = {name: age for name, age in zip(names, ages)}\n",
    "print(new_dict)\n",
    "\n",
    "z = zip(names, ages)\n",
    "new_dict_1 = {name: age for name, age in z}\n",
    "print(new_dict_1)"
   ]
  },
  {
   "cell_type": "code",
   "execution_count": 40,
   "metadata": {},
   "outputs": [
    {
     "name": "stdout",
     "output_type": "stream",
     "text": [
      "{'COL': 51, 'ARG': 86, 'BRA': 89, 'BOL': 45}\n",
      "{'ARG': 86, 'BRA': 89}\n"
     ]
    }
   ],
   "source": [
    "print(population_1)\n",
    "result = {key:value for key, value in population_1.items() if value > 80}\n",
    "print(result)"
   ]
  },
  {
   "attachments": {},
   "cell_type": "markdown",
   "metadata": {},
   "source": [
    "##### Ejercicio"
   ]
  },
  {
   "attachments": {},
   "cell_type": "markdown",
   "metadata": {},
   "source": [
    "Mediante un dict comprehension imprimir las vocales de la siguiente cadena de texto como key en minus y como values en mayus"
   ]
  },
  {
   "cell_type": "code",
   "execution_count": 49,
   "metadata": {},
   "outputs": [
    {
     "name": "stdout",
     "output_type": "stream",
     "text": [
      "{'i': 'I', 'e': 'E', 'a': 'A', 'o': 'O'}\n"
     ]
    }
   ],
   "source": [
    "text = 'friends, big bang theory'\n",
    "x = ['a', 'e', 'i', 'o', 'u']\n",
    "vocals = {value: value.upper() for value in text if value in x}\n",
    "print(vocals)"
   ]
  }
 ],
 "metadata": {
  "kernelspec": {
   "display_name": "Python 3",
   "language": "python",
   "name": "python3"
  },
  "language_info": {
   "codemirror_mode": {
    "name": "ipython",
    "version": 3
   },
   "file_extension": ".py",
   "mimetype": "text/x-python",
   "name": "python",
   "nbconvert_exporter": "python",
   "pygments_lexer": "ipython3",
   "version": "3.10.7"
  },
  "orig_nbformat": 4
 },
 "nbformat": 4,
 "nbformat_minor": 2
}
