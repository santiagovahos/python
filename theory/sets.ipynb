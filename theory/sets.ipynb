{
 "cells": [
  {
   "attachments": {},
   "cell_type": "markdown",
   "metadata": {},
   "source": [
    "##### Conjuntos\n",
    "\n"
   ]
  },
  {
   "attachments": {},
   "cell_type": "markdown",
   "metadata": {},
   "source": [
    "Tiene que ver con la teoria de conjuntos tradicional\n",
    "\n",
    "Propiedades\n",
    "Se pueden modificar\n",
    "No tienen un orden\n",
    "No permite valores duplicados"
   ]
  },
  {
   "cell_type": "code",
   "execution_count": 3,
   "metadata": {},
   "outputs": [
    {
     "name": "stdout",
     "output_type": "stream",
     "text": [
      "{'COL', 'ARG', 'BRA'}\n",
      "<class 'set'>\n"
     ]
    }
   ],
   "source": [
    "set_countries = {'COL', 'ARG', 'BRA', 'COL'} # Como se puede observar, no imprime el valor duplicado\n",
    "print(set_countries)\n",
    "print(type(set_countries))"
   ]
  },
  {
   "cell_type": "code",
   "execution_count": 5,
   "metadata": {},
   "outputs": [
    {
     "name": "stdout",
     "output_type": "stream",
     "text": [
      "{False, 'hola', 12.12, 14}\n"
     ]
    }
   ],
   "source": [
    "set_types = {14, 'hola', False, 12.12} # Permite añadir diferentes tipos de datos\n",
    "print(set_types) # Al imprimir se observa que no hay un orden"
   ]
  },
  {
   "cell_type": "code",
   "execution_count": 7,
   "metadata": {},
   "outputs": [
    {
     "name": "stdout",
     "output_type": "stream",
     "text": [
      "{'o', 'h', 'a', 'l'}\n"
     ]
    }
   ],
   "source": [
    "set_from_string = set('hola') # Crear un set a partir de un str\n",
    "print(set_from_string)"
   ]
  },
  {
   "cell_type": "code",
   "execution_count": 10,
   "metadata": {},
   "outputs": [
    {
     "name": "stdout",
     "output_type": "stream",
     "text": [
      "{'ABC', 'YOVNG', 14}\n"
     ]
    }
   ],
   "source": [
    "set_from_tuples = set(('ABC', 14, 'YOVNG', 'ABC')) # Crear un set a partir de una tupla\n",
    "print(set_from_tuples)"
   ]
  },
  {
   "cell_type": "code",
   "execution_count": 15,
   "metadata": {},
   "outputs": [
    {
     "name": "stdout",
     "output_type": "stream",
     "text": [
      "{123}\n",
      "<class 'list'>\n",
      "[123]\n"
     ]
    }
   ],
   "source": [
    "set_from_list = set([123, 123, 123]) # Segun su propiedad, no admite valores duplicados\n",
    "print(set_from_list)\n",
    "\n",
    "'''Funciona para conservar los valores unicos de un objeto\n",
    "\n",
    "Al final se puede cambiar el type set por el objeto que se necesite:\n",
    "lista, tupla, array, etc\n",
    "\n",
    "'''\n",
    "unique_numbers = list(set_from_list)\n",
    "print(type(unique_numbers))\n",
    "print(unique_numbers)\n",
    "\n"
   ]
  },
  {
   "attachments": {},
   "cell_type": "markdown",
   "metadata": {},
   "source": [
    "##### ¿Cómo modificar conjuntos?"
   ]
  },
  {
   "attachments": {},
   "cell_type": "markdown",
   "metadata": {},
   "source": [
    "Imprimir su tamaño"
   ]
  },
  {
   "cell_type": "code",
   "execution_count": 16,
   "metadata": {},
   "outputs": [
    {
     "name": "stdout",
     "output_type": "stream",
     "text": [
      "3\n"
     ]
    }
   ],
   "source": [
    "size = len (set_countries)\n",
    "print(size)"
   ]
  },
  {
   "cell_type": "code",
   "execution_count": 17,
   "metadata": {},
   "outputs": [
    {
     "name": "stdout",
     "output_type": "stream",
     "text": [
      "True\n",
      "False\n"
     ]
    }
   ],
   "source": [
    "print('COL' in set_countries)\n",
    "print('URU' in set_countries)"
   ]
  },
  {
   "attachments": {},
   "cell_type": "markdown",
   "metadata": {},
   "source": [
    "Agregar un nuevo elemento con .add"
   ]
  },
  {
   "cell_type": "code",
   "execution_count": 21,
   "metadata": {},
   "outputs": [
    {
     "name": "stdout",
     "output_type": "stream",
     "text": [
      "{'COL', 'URU', 'ARG', 'BRA'}\n",
      "{'COL', 'URU', 'ARG', 'BRA'}\n"
     ]
    }
   ],
   "source": [
    "set_countries.add('URU')\n",
    "print(set_countries)\n",
    "# ¿Y si lo añadimos de nuevo?\n",
    "set_countries.add('URU')\n",
    "print(set_countries) # Vemos que sigue cumpliendo su propiedad de NO valores duplicados"
   ]
  },
  {
   "attachments": {},
   "cell_type": "markdown",
   "metadata": {},
   "source": [
    "Agregar mas de un elemento con .update"
   ]
  },
  {
   "cell_type": "code",
   "execution_count": 23,
   "metadata": {},
   "outputs": [
    {
     "data": {
      "text/plain": [
       "{'ARG', 'BOL', 'BRA', 'CHL', 'COL', 'ECU', 'URU'}"
      ]
     },
     "execution_count": 23,
     "metadata": {},
     "output_type": "execute_result"
    }
   ],
   "source": [
    "# .add solo permite agregar un elemento, por lo que es necesario usar .update para agregar mas de uno\n",
    "set_countries.update({'CHL', 'ECU', 'BOL'})\n",
    "set_countries"
   ]
  },
  {
   "attachments": {},
   "cell_type": "markdown",
   "metadata": {},
   "source": [
    "Eliminar elementos con .remove"
   ]
  },
  {
   "cell_type": "code",
   "execution_count": null,
   "metadata": {},
   "outputs": [],
   "source": [
    "set_countries.remove('ARG')\n",
    "print(set_countries)"
   ]
  },
  {
   "attachments": {},
   "cell_type": "markdown",
   "metadata": {},
   "source": [
    "Eliminar todos los elementos de un conjunto con .clear"
   ]
  },
  {
   "cell_type": "code",
   "execution_count": 29,
   "metadata": {},
   "outputs": [
    {
     "name": "stdout",
     "output_type": "stream",
     "text": [
      "set()\n",
      "0\n"
     ]
    }
   ],
   "source": [
    "set_countries.clear()\n",
    "print(set_countries)\n",
    "print(len(set_countries))"
   ]
  },
  {
   "attachments": {},
   "cell_type": "markdown",
   "metadata": {},
   "source": [
    "##### Operaciones con conjuntos"
   ]
  },
  {
   "cell_type": "code",
   "execution_count": 35,
   "metadata": {},
   "outputs": [
    {
     "name": "stdout",
     "output_type": "stream",
     "text": [
      "{'COL', 'ECU', 'ARG', 'BOL', 'BRA', 'MEX', 'PER'}\n",
      "{'BOL'}\n",
      "{'COL', 'ECU', 'MEX'}\n",
      "{'ARG', 'COL', 'ECU', 'BRA', 'MEX', 'PER'}\n"
     ]
    }
   ],
   "source": [
    "set_a = {'COL', 'MEX', 'BOL', 'ECU'}\n",
    "set_b = {'PER', 'BOL', 'ARG', 'BRA'}\n",
    "\n",
    "set_c = set_a | set_b # Unión\n",
    "print(set_c)\n",
    "\n",
    "set_d = set_a & set_b # Intersección\n",
    "print(set_d)\n",
    "\n",
    "set_e = set_a - set_b # Sustracción\n",
    "print(set_e)\n",
    "\n",
    "set_f = set_a ^ set_b # Diferencia simetrica (Todo menos la intersección)\n",
    "print(set_f)\n"
   ]
  },
  {
   "attachments": {},
   "cell_type": "markdown",
   "metadata": {},
   "source": [
    "##### Ejercicio"
   ]
  },
  {
   "attachments": {},
   "cell_type": "markdown",
   "metadata": {},
   "source": [
    "Para resolver este ejercicio, debes escribir un algoritmo que elimine los elementos repetidos para obtener un conjunto único llamado new_set."
   ]
  },
  {
   "cell_type": "code",
   "execution_count": null,
   "metadata": {},
   "outputs": [],
   "source": [
    "countries = {\"MX\", \"COL\", \"ARG\", \"USA\"}\n",
    "northAm = {\"USA\", \"CANADA\"}\n",
    "centralAm = {\"MX\", \"GT\", \"BZ\"}\n",
    "southAm = {\"COL\", \"BZ\", \"ARG\"}\n",
    "\n",
    "new_set = set()"
   ]
  }
 ],
 "metadata": {
  "kernelspec": {
   "display_name": "Python 3",
   "language": "python",
   "name": "python3"
  },
  "language_info": {
   "codemirror_mode": {
    "name": "ipython",
    "version": 3
   },
   "file_extension": ".py",
   "mimetype": "text/x-python",
   "name": "python",
   "nbconvert_exporter": "python",
   "pygments_lexer": "ipython3",
   "version": "3.10.7"
  },
  "orig_nbformat": 4
 },
 "nbformat": 4,
 "nbformat_minor": 2
}
