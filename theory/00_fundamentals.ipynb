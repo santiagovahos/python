{
 "cells": [
  {
   "cell_type": "markdown",
   "metadata": {},
   "source": [
    "Tipos de datos y operadores\n",
    "Tipos de datos\n",
    "Se usan para representar valores que usamos en nuestros cálculos y procedimientos.\n",
    "\n",
    "int -> se usa para representar enteros"
   ]
  },
  {
   "cell_type": "code",
   "execution_count": 1,
   "metadata": {},
   "outputs": [],
   "source": [
    "x = 4\n",
    "z = 12"
   ]
  },
  {
   "attachments": {},
   "cell_type": "markdown",
   "metadata": {},
   "source": [
    "float -> se usa para representar números con decimales"
   ]
  },
  {
   "cell_type": "code",
   "execution_count": null,
   "metadata": {},
   "outputs": [],
   "source": [
    "y = 3.5\n",
    "type(y)"
   ]
  },
  {
   "attachments": {},
   "cell_type": "markdown",
   "metadata": {},
   "source": [
    "bool -> se usa para representar valores de falso y verdadero"
   ]
  },
  {
   "cell_type": "code",
   "execution_count": null,
   "metadata": {},
   "outputs": [],
   "source": [
    "life_is_hard = True\n",
    "follow_your_instinct = False\n",
    "follow_data = True\n",
    "you_must_keep_learning = True"
   ]
  },
  {
   "attachments": {},
   "cell_type": "markdown",
   "metadata": {},
   "source": [
    "str -> se usa para representar texto"
   ]
  },
  {
   "cell_type": "code",
   "execution_count": null,
   "metadata": {},
   "outputs": [],
   "source": [
    "name = \"Manuela\"\n",
    "last_name = \"Garcia\"\n",
    "numero = '52000'\n",
    "num = 520000\n",
    "# numero = '52000' es decir, con comillas, no es lo mismo que num = 52000 sin comillas \n",
    "type(numero)\n",
    "type(num)\n",
    "\n",
    "# permite hacer la operacion porque todos son cadenas\n",
    "z = name + last_name + numero\n",
    "print(z)\n",
    "\n",
    "# Lanza error porque num es de tipo int y numero es de tipo str\n",
    "y = num + numero\n",
    "print(y)"
   ]
  },
  {
   "attachments": {},
   "cell_type": "markdown",
   "metadata": {},
   "source": [
    "Operadores\n",
    "Nos permiten ejecutar distintas operaciones en pares de valores, el comportamiento de los operadores depende de los valores con los que se estén llamando.\n",
    "\n",
    "* ' + ' sumar\n",
    "* ' - ' restar\n",
    "* ' * ' multiplicar\n",
    "*   /   dividir (imprime el cociente)\n",
    "*   //  dividir (imprime el cociente como un entero)\n",
    "*   %   divir   (imprime el residuo)   -------- % == se llama modulo\n"
   ]
  },
  {
   "cell_type": "code",
   "execution_count": 2,
   "metadata": {},
   "outputs": [
    {
     "name": "stdout",
     "output_type": "stream",
     "text": [
      "0.42857142857142855\n",
      "0\n",
      "2\n",
      "15\n"
     ]
    }
   ],
   "source": [
    "x = 3/7\n",
    "print(x)\n",
    "\n",
    "y = 3//7  # con doble slash redondea el cociente\n",
    "print(y)\n",
    "\n",
    "z = 14%4 # Imprime el residuo\n",
    "print(z)\n",
    "\n",
    "\n",
    "w=25-10\n",
    "print(w)"
   ]
  },
  {
   "attachments": {},
   "cell_type": "markdown",
   "metadata": {},
   "source": [
    "## Listas\n",
    "\n",
    "En esta sección se presenta uno de los tipos integrados más útiles de Python, las **listas**.\n",
    "\n",
    "Al igual que un **string**, una lista es una secuencia de valores. En un string los valores son caracteres; en una **lista**, se puede tener **cualquier tipo**. Los **valores de una lista** se denominan **elementos**.\n",
    "\n",
    "Hay varias formas de crear una nueva lista; la forma más simple es encerrar los elementos entre corchetes `[a,b,c]`:"
   ]
  },
  {
   "cell_type": "code",
   "execution_count": 39,
   "metadata": {},
   "outputs": [
    {
     "data": {
      "text/plain": [
       "['a', 'b', 'c']"
      ]
     },
     "execution_count": 39,
     "metadata": {},
     "output_type": "execute_result"
    }
   ],
   "source": [
    "x=[\"a\",\"b\",\"c\",5,6,5,True,False, [25,2,3,5,\"m\"]] #en la lista puede ir cualquier tipo de dato, incluso otras listas.\n",
    "(x[8][-1])\n",
    "#SE CUENTA DESDE CERO\n",
    "\n",
    "(x[0:3])\n",
    "\n"
   ]
  },
  {
   "attachments": {},
   "cell_type": "markdown",
   "metadata": {},
   "source": [
    "### Acceder a los elementos dentro de la lista\n",
    "\n",
    "Para acceder a los elementos de la lista lo hacemos mediante siguiendo la indexación \n",
    "\n",
    "`listas[0]`$\\rightarrow$ elemento 1 de la lista.\n",
    "\n",
    "`listas[1]`$\\rightarrow$ elemento 2 de la lista.\n",
    "\n",
    "`listas[2]`$\\rightarrow$ elemento 3 de la lista.\n",
    "\n",
    "`listas[3]`$\\rightarrow$ elemento 4 de la lista.\n",
    "\n",
    "Acceder a un rango determinado de datos dentro de la lista:\n",
    "\n",
    "`listas[0:3]`$\\rightarrow$ elemento 0 al elemento 3\n",
    "\n",
    "Acceder al último elemento de lista:\n",
    "\n",
    "`listas[-1]`$\\rightarrow$ elemento final de la lista"
   ]
  },
  {
   "attachments": {},
   "cell_type": "markdown",
   "metadata": {},
   "source": [
    "Funcion **len()** y **sum()**"
   ]
  },
  {
   "attachments": {},
   "cell_type": "markdown",
   "metadata": {},
   "source": [
    "## Ejercicio\n",
    "Calcular el promedio de notas de los estudiantes del curso"
   ]
  },
  {
   "cell_type": "code",
   "execution_count": 49,
   "metadata": {},
   "outputs": [
    {
     "data": {
      "text/plain": [
       "3"
      ]
     },
     "execution_count": 49,
     "metadata": {},
     "output_type": "execute_result"
    }
   ],
   "source": [
    "notas = [1.2, 4.5, 3.9, 5.0, 2.6, 3.4]\n",
    "\n",
    "x=sum(notas) #sumar\n",
    "x\n",
    "\n",
    "y=len(notas) #contar los items\n",
    "y\n",
    "\n",
    "z=x/y\n",
    "z\n",
    "\n",
    "round(z) #para redondear"
   ]
  }
 ],
 "metadata": {
  "kernelspec": {
   "display_name": "Python 3",
   "language": "python",
   "name": "python3"
  },
  "language_info": {
   "codemirror_mode": {
    "name": "ipython",
    "version": 3
   },
   "file_extension": ".py",
   "mimetype": "text/x-python",
   "name": "python",
   "nbconvert_exporter": "python",
   "pygments_lexer": "ipython3",
   "version": "3.11.2"
  },
  "orig_nbformat": 4
 },
 "nbformat": 4,
 "nbformat_minor": 2
}
